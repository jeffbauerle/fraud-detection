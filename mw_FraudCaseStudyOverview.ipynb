{
 "cells": [
  {
   "cell_type": "markdown",
   "metadata": {},
   "source": [
    "# Fraud case study\n",
    "\n"
   ]
  },
  {
   "cell_type": "markdown",
   "metadata": {},
   "source": [
    "## Day 1: building a fraud model"
   ]
  },
  {
   "cell_type": "markdown",
   "metadata": {},
   "source": [
    "## Day 2: building an app/dashboard"
   ]
  },
  {
   "cell_type": "markdown",
   "metadata": {},
   "source": [
    "## Tips success\n",
    "\n",
    "You will quickly run out of time:\n",
    "\n",
    "*  Use CRISP-DM workflow to analyze data and build a model\n",
    "*  Iterate quickly, test often, commit often\n",
    "*  Build deadlines for your work so you stay on track\n",
    "*  Should have a model by end of day 1\n",
    "*  Start app once model is working"
   ]
  },
  {
   "cell_type": "markdown",
   "metadata": {},
   "source": [
    "### CRISP-DM workflow\n",
    "\n",
    "Follow the [CRISP-DM](https://en.wikipedia.org/wiki/Cross_Industry_Standard_Process_for_Data_Mining) steps:\n",
    "\n",
    "1.  Business understanding\n",
    "2.  Data understanding\n",
    "3.  Data preparation\n",
    "4.  Modeling\n",
    "5.  Evaluation\n",
    "6.  Deployment"
   ]
  },
  {
   "cell_type": "markdown",
   "metadata": {},
   "source": [
    "# Introduction to case study: data & problem"
   ]
  },
  {
   "cell_type": "markdown",
   "metadata": {},
   "source": [
    "Let's look at the data.  What format is the data in?  How do you extract it?"
   ]
  },
  {
   "cell_type": "code",
   "execution_count": null,
   "metadata": {},
   "outputs": [],
   "source": [
    "ls -lh data"
   ]
  },
  {
   "cell_type": "markdown",
   "metadata": {},
   "source": [
    "Unzip the data so you can load it into Python"
   ]
  },
  {
   "cell_type": "code",
   "execution_count": null,
   "metadata": {},
   "outputs": [],
   "source": [
    "!unzip data/data.zip -d data"
   ]
  },
  {
   "cell_type": "markdown",
   "metadata": {},
   "source": [
    "Initially, work with a subset at first in order to iterate quickly.  But, the file is one giant line of json:"
   ]
  },
  {
   "cell_type": "code",
   "execution_count": null,
   "metadata": {},
   "outputs": [],
   "source": [
    "!wc data/data.json"
   ]
  },
  {
   "cell_type": "markdown",
   "metadata": {},
   "source": [
    "Write a quick and dirty script to pull out the first 100 records so we can get code working quickly."
   ]
  },
  {
   "cell_type": "code",
   "execution_count": null,
   "metadata": {},
   "outputs": [],
   "source": [
    "%%writefile subset_json.py\n",
    "\"\"\"head_json.py - extract a couple records from a huge json file.\n",
    "\n",
    "Syntax: python head_json.py < infile.json > outfile.json\n",
    "\"\"\"\n",
    "\n",
    "import sys\n",
    "\n",
    "start_char = '{'\n",
    "stop_char = '}'\n",
    "n_records = 100\n",
    "level_nesting = 0\n",
    "\n",
    "while n_records != 0:\n",
    "    ch = sys.stdin.read(1)\n",
    "    sys.stdout.write(ch)\n",
    "    if ch == start_char:\n",
    "        level_nesting += 1\n",
    "    if ch == stop_char:\n",
    "        level_nesting -= 1\n",
    "        if level_nesting == 0:\n",
    "            n_records -= 1\n",
    "sys.stdout.write(']')\n"
   ]
  },
  {
   "cell_type": "code",
   "execution_count": null,
   "metadata": {},
   "outputs": [],
   "source": [
    "!python subset_json.py < data/data.json > data/subset.json"
   ]
  },
  {
   "cell_type": "code",
   "execution_count": 1,
   "metadata": {},
   "outputs": [],
   "source": [
    "import pandas as pd\n",
    "\n",
    "df = pd.read_json('data/data.json')"
   ]
  },
  {
   "cell_type": "code",
   "execution_count": 27,
   "metadata": {},
   "outputs": [
    {
     "data": {
      "text/html": [
       "<div>\n",
       "<style scoped>\n",
       "    .dataframe tbody tr th:only-of-type {\n",
       "        vertical-align: middle;\n",
       "    }\n",
       "\n",
       "    .dataframe tbody tr th {\n",
       "        vertical-align: top;\n",
       "    }\n",
       "\n",
       "    .dataframe thead th {\n",
       "        text-align: right;\n",
       "    }\n",
       "</style>\n",
       "<table border=\"1\" class=\"dataframe\">\n",
       "  <thead>\n",
       "    <tr style=\"text-align: right;\">\n",
       "      <th></th>\n",
       "      <th>0</th>\n",
       "      <th>1</th>\n",
       "      <th>2</th>\n",
       "      <th>3</th>\n",
       "      <th>4</th>\n",
       "    </tr>\n",
       "  </thead>\n",
       "  <tbody>\n",
       "    <tr>\n",
       "      <th>acct_type</th>\n",
       "      <td>fraudster_event</td>\n",
       "      <td>premium</td>\n",
       "      <td>premium</td>\n",
       "      <td>premium</td>\n",
       "      <td>premium</td>\n",
       "    </tr>\n",
       "    <tr>\n",
       "      <th>approx_payout_date</th>\n",
       "      <td>1266062400</td>\n",
       "      <td>1296720000</td>\n",
       "      <td>1296172800</td>\n",
       "      <td>1388966400</td>\n",
       "      <td>1297900800</td>\n",
       "    </tr>\n",
       "    <tr>\n",
       "      <th>body_length</th>\n",
       "      <td>3852</td>\n",
       "      <td>3499</td>\n",
       "      <td>2601</td>\n",
       "      <td>12347</td>\n",
       "      <td>2417</td>\n",
       "    </tr>\n",
       "    <tr>\n",
       "      <th>channels</th>\n",
       "      <td>5</td>\n",
       "      <td>0</td>\n",
       "      <td>8</td>\n",
       "      <td>6</td>\n",
       "      <td>11</td>\n",
       "    </tr>\n",
       "    <tr>\n",
       "      <th>country</th>\n",
       "      <td>US</td>\n",
       "      <td>US</td>\n",
       "      <td>US</td>\n",
       "      <td>IE</td>\n",
       "      <td>US</td>\n",
       "    </tr>\n",
       "    <tr>\n",
       "      <th>currency</th>\n",
       "      <td>USD</td>\n",
       "      <td>USD</td>\n",
       "      <td>USD</td>\n",
       "      <td>EUR</td>\n",
       "      <td>USD</td>\n",
       "    </tr>\n",
       "    <tr>\n",
       "      <th>delivery_method</th>\n",
       "      <td>0</td>\n",
       "      <td>1</td>\n",
       "      <td>1</td>\n",
       "      <td>1</td>\n",
       "      <td>0</td>\n",
       "    </tr>\n",
       "    <tr>\n",
       "      <th>description</th>\n",
       "      <td>&lt;p&gt;&lt;a href=\"http://s432.photobucket.com/albums...</td>\n",
       "      <td>&lt;p&gt;Join us for a quick, one-night, community-b...</td>\n",
       "      <td>&lt;h3&gt;&lt;span class=\"subcategory\"&gt;&lt;strong&gt;Teacher ...</td>\n",
       "      <td>&lt;p style=\"margin-bottom: 1.3em; padding-bottom...</td>\n",
       "      <td>&lt;p&gt;Writers and filmmakers need to understand t...</td>\n",
       "    </tr>\n",
       "    <tr>\n",
       "      <th>email_domain</th>\n",
       "      <td>gmail.com</td>\n",
       "      <td>ruf.org</td>\n",
       "      <td>pvsd.k12.ca.us</td>\n",
       "      <td>irishtabletennis.com</td>\n",
       "      <td>artsandbusinesscouncil.org</td>\n",
       "    </tr>\n",
       "    <tr>\n",
       "      <th>event_created</th>\n",
       "      <td>1262739706</td>\n",
       "      <td>1293832670</td>\n",
       "      <td>1291090956</td>\n",
       "      <td>1360681570</td>\n",
       "      <td>1291994666</td>\n",
       "    </tr>\n",
       "    <tr>\n",
       "      <th>event_end</th>\n",
       "      <td>1265630400</td>\n",
       "      <td>1296288000</td>\n",
       "      <td>1295740800</td>\n",
       "      <td>1388534400</td>\n",
       "      <td>1297468800</td>\n",
       "    </tr>\n",
       "    <tr>\n",
       "      <th>event_published</th>\n",
       "      <td>1.26311e+09</td>\n",
       "      <td>1.29383e+09</td>\n",
       "      <td>1.29109e+09</td>\n",
       "      <td>1.36068e+09</td>\n",
       "      <td>1.29199e+09</td>\n",
       "    </tr>\n",
       "    <tr>\n",
       "      <th>event_start</th>\n",
       "      <td>1265594400</td>\n",
       "      <td>1296255600</td>\n",
       "      <td>1295713800</td>\n",
       "      <td>1360702800</td>\n",
       "      <td>1297440000</td>\n",
       "    </tr>\n",
       "    <tr>\n",
       "      <th>fb_published</th>\n",
       "      <td>0</td>\n",
       "      <td>0</td>\n",
       "      <td>0</td>\n",
       "      <td>0</td>\n",
       "      <td>1</td>\n",
       "    </tr>\n",
       "    <tr>\n",
       "      <th>gts</th>\n",
       "      <td>0</td>\n",
       "      <td>868.02</td>\n",
       "      <td>3500</td>\n",
       "      <td>1167.35</td>\n",
       "      <td>2313.15</td>\n",
       "    </tr>\n",
       "    <tr>\n",
       "      <th>has_analytics</th>\n",
       "      <td>0</td>\n",
       "      <td>0</td>\n",
       "      <td>0</td>\n",
       "      <td>0</td>\n",
       "      <td>0</td>\n",
       "    </tr>\n",
       "    <tr>\n",
       "      <th>has_header</th>\n",
       "      <td>1</td>\n",
       "      <td>0</td>\n",
       "      <td>NaN</td>\n",
       "      <td>0</td>\n",
       "      <td>0</td>\n",
       "    </tr>\n",
       "    <tr>\n",
       "      <th>has_logo</th>\n",
       "      <td>0</td>\n",
       "      <td>1</td>\n",
       "      <td>0</td>\n",
       "      <td>1</td>\n",
       "      <td>0</td>\n",
       "    </tr>\n",
       "    <tr>\n",
       "      <th>listed</th>\n",
       "      <td>y</td>\n",
       "      <td>n</td>\n",
       "      <td>y</td>\n",
       "      <td>y</td>\n",
       "      <td>y</td>\n",
       "    </tr>\n",
       "    <tr>\n",
       "      <th>name</th>\n",
       "      <td>99 HOUR \"NO SLEEP\" SUPER BOWL CELEBRITY WEEKEN...</td>\n",
       "      <td>Winthrop RUF Winter Getaway</td>\n",
       "      <td>DRDP (2010) Teacher Training</td>\n",
       "      <td>ITTA Affiliation 2013</td>\n",
       "      <td>Self Defense for Writers and Filmmakers: For A...</td>\n",
       "    </tr>\n",
       "    <tr>\n",
       "      <th>name_length</th>\n",
       "      <td>60</td>\n",
       "      <td>27</td>\n",
       "      <td>28</td>\n",
       "      <td>21</td>\n",
       "      <td>66</td>\n",
       "    </tr>\n",
       "    <tr>\n",
       "      <th>num_order</th>\n",
       "      <td>0</td>\n",
       "      <td>23</td>\n",
       "      <td>19</td>\n",
       "      <td>39</td>\n",
       "      <td>30</td>\n",
       "    </tr>\n",
       "    <tr>\n",
       "      <th>num_payouts</th>\n",
       "      <td>0</td>\n",
       "      <td>1</td>\n",
       "      <td>4</td>\n",
       "      <td>16</td>\n",
       "      <td>0</td>\n",
       "    </tr>\n",
       "    <tr>\n",
       "      <th>object_id</th>\n",
       "      <td>527017</td>\n",
       "      <td>786878</td>\n",
       "      <td>787337</td>\n",
       "      <td>885645</td>\n",
       "      <td>1114349</td>\n",
       "    </tr>\n",
       "    <tr>\n",
       "      <th>org_desc</th>\n",
       "      <td></td>\n",
       "      <td>&lt;p&gt;Since 1987, RUF has ministered to students ...</td>\n",
       "      <td>&lt;p&gt;&lt;a href=\"http://www.desiredresults.com\"&gt;www...</td>\n",
       "      <td></td>\n",
       "      <td>&lt;p&gt;&lt;font face=\"Arial\"&gt;&lt;font size=\"2\"&gt;&lt;strong&gt;T...</td>\n",
       "    </tr>\n",
       "    <tr>\n",
       "      <th>org_facebook</th>\n",
       "      <td>0</td>\n",
       "      <td>0</td>\n",
       "      <td>0</td>\n",
       "      <td>0</td>\n",
       "      <td>0</td>\n",
       "    </tr>\n",
       "    <tr>\n",
       "      <th>org_name</th>\n",
       "      <td>Party Starz Ent &amp; Diverse Int'l Group</td>\n",
       "      <td>RUF at Winthrop University</td>\n",
       "      <td>University Preparation School in collaboration...</td>\n",
       "      <td></td>\n",
       "      <td>Arts &amp; Business Council of Greater Boston</td>\n",
       "    </tr>\n",
       "    <tr>\n",
       "      <th>org_twitter</th>\n",
       "      <td>0</td>\n",
       "      <td>12</td>\n",
       "      <td>0</td>\n",
       "      <td>0</td>\n",
       "      <td>0</td>\n",
       "    </tr>\n",
       "    <tr>\n",
       "      <th>payee_name</th>\n",
       "      <td></td>\n",
       "      <td>RUF</td>\n",
       "      <td>University Preparation School</td>\n",
       "      <td></td>\n",
       "      <td>Arts and Business Council or Greater Boston</td>\n",
       "    </tr>\n",
       "    <tr>\n",
       "      <th>payout_type</th>\n",
       "      <td></td>\n",
       "      <td>CHECK</td>\n",
       "      <td>CHECK</td>\n",
       "      <td>ACH</td>\n",
       "      <td>CHECK</td>\n",
       "    </tr>\n",
       "    <tr>\n",
       "      <th>previous_payouts</th>\n",
       "      <td>[]</td>\n",
       "      <td>[{'name': 'RUF', 'created': '2010-10-01 01:10:...</td>\n",
       "      <td>[{'name': 'Danielle Severn', 'created': '2010-...</td>\n",
       "      <td>[{'name': '', 'created': '2010-11-09 01:10:15'...</td>\n",
       "      <td>[{'name': 'Arts and Business Council or Greate...</td>\n",
       "    </tr>\n",
       "    <tr>\n",
       "      <th>sale_duration</th>\n",
       "      <td>29</td>\n",
       "      <td>28</td>\n",
       "      <td>54</td>\n",
       "      <td>0</td>\n",
       "      <td>63</td>\n",
       "    </tr>\n",
       "    <tr>\n",
       "      <th>sale_duration2</th>\n",
       "      <td>33</td>\n",
       "      <td>28</td>\n",
       "      <td>54</td>\n",
       "      <td>0</td>\n",
       "      <td>63</td>\n",
       "    </tr>\n",
       "    <tr>\n",
       "      <th>show_map</th>\n",
       "      <td>1</td>\n",
       "      <td>0</td>\n",
       "      <td>0</td>\n",
       "      <td>0</td>\n",
       "      <td>0</td>\n",
       "    </tr>\n",
       "    <tr>\n",
       "      <th>ticket_types</th>\n",
       "      <td>[{'event_id': 527017, 'cost': 25.0, 'availabil...</td>\n",
       "      <td>[{'event_id': 786878, 'cost': 35.0, 'availabil...</td>\n",
       "      <td>[{'event_id': 787337, 'cost': 93.51, 'availabi...</td>\n",
       "      <td>[{'event_id': 885645, 'cost': 25.0, 'availabil...</td>\n",
       "      <td>[{'event_id': 1114349, 'cost': 150.0, 'availab...</td>\n",
       "    </tr>\n",
       "    <tr>\n",
       "      <th>user_age</th>\n",
       "      <td>36</td>\n",
       "      <td>149</td>\n",
       "      <td>214</td>\n",
       "      <td>889</td>\n",
       "      <td>35</td>\n",
       "    </tr>\n",
       "    <tr>\n",
       "      <th>user_created</th>\n",
       "      <td>1259613950</td>\n",
       "      <td>1280942776</td>\n",
       "      <td>1272559388</td>\n",
       "      <td>1283870102</td>\n",
       "      <td>1288984065</td>\n",
       "    </tr>\n",
       "    <tr>\n",
       "      <th>user_type</th>\n",
       "      <td>1</td>\n",
       "      <td>3</td>\n",
       "      <td>3</td>\n",
       "      <td>3</td>\n",
       "      <td>3</td>\n",
       "    </tr>\n",
       "    <tr>\n",
       "      <th>venue_address</th>\n",
       "      <td>717 Washington Avenue</td>\n",
       "      <td></td>\n",
       "      <td>10100 Pioneer Blvd Suite 100</td>\n",
       "      <td></td>\n",
       "      <td>One Marina Park Drive</td>\n",
       "    </tr>\n",
       "    <tr>\n",
       "      <th>venue_country</th>\n",
       "      <td>US</td>\n",
       "      <td>US</td>\n",
       "      <td>US</td>\n",
       "      <td>None</td>\n",
       "      <td>US</td>\n",
       "    </tr>\n",
       "    <tr>\n",
       "      <th>venue_latitude</th>\n",
       "      <td>25.7775</td>\n",
       "      <td>32.7766</td>\n",
       "      <td>33.9442</td>\n",
       "      <td>NaN</td>\n",
       "      <td>42.3538</td>\n",
       "    </tr>\n",
       "    <tr>\n",
       "      <th>venue_longitude</th>\n",
       "      <td>-80.1334</td>\n",
       "      <td>-79.9309</td>\n",
       "      <td>-118.08</td>\n",
       "      <td>NaN</td>\n",
       "      <td>-71.0443</td>\n",
       "    </tr>\n",
       "    <tr>\n",
       "      <th>venue_name</th>\n",
       "      <td>INK Nightclub - South Beach</td>\n",
       "      <td>The Charleston, SC area</td>\n",
       "      <td>Los Angeles County Office of Education</td>\n",
       "      <td>None</td>\n",
       "      <td>Fish &amp; Richardson</td>\n",
       "    </tr>\n",
       "    <tr>\n",
       "      <th>venue_state</th>\n",
       "      <td>FL</td>\n",
       "      <td>SC</td>\n",
       "      <td>CA</td>\n",
       "      <td>None</td>\n",
       "      <td>MA</td>\n",
       "    </tr>\n",
       "    <tr>\n",
       "      <th>fraud</th>\n",
       "      <td>1</td>\n",
       "      <td>0</td>\n",
       "      <td>0</td>\n",
       "      <td>0</td>\n",
       "      <td>0</td>\n",
       "    </tr>\n",
       "  </tbody>\n",
       "</table>\n",
       "</div>"
      ],
      "text/plain": [
       "                                                                    0  \\\n",
       "acct_type                                             fraudster_event   \n",
       "approx_payout_date                                         1266062400   \n",
       "body_length                                                      3852   \n",
       "channels                                                            5   \n",
       "country                                                            US   \n",
       "currency                                                          USD   \n",
       "delivery_method                                                     0   \n",
       "description         <p><a href=\"http://s432.photobucket.com/albums...   \n",
       "email_domain                                                gmail.com   \n",
       "event_created                                              1262739706   \n",
       "event_end                                                  1265630400   \n",
       "event_published                                           1.26311e+09   \n",
       "event_start                                                1265594400   \n",
       "fb_published                                                        0   \n",
       "gts                                                                 0   \n",
       "has_analytics                                                       0   \n",
       "has_header                                                          1   \n",
       "has_logo                                                            0   \n",
       "listed                                                              y   \n",
       "name                99 HOUR \"NO SLEEP\" SUPER BOWL CELEBRITY WEEKEN...   \n",
       "name_length                                                        60   \n",
       "num_order                                                           0   \n",
       "num_payouts                                                         0   \n",
       "object_id                                                      527017   \n",
       "org_desc                                                                \n",
       "org_facebook                                                        0   \n",
       "org_name                        Party Starz Ent & Diverse Int'l Group   \n",
       "org_twitter                                                         0   \n",
       "payee_name                                                              \n",
       "payout_type                                                             \n",
       "previous_payouts                                                   []   \n",
       "sale_duration                                                      29   \n",
       "sale_duration2                                                     33   \n",
       "show_map                                                            1   \n",
       "ticket_types        [{'event_id': 527017, 'cost': 25.0, 'availabil...   \n",
       "user_age                                                           36   \n",
       "user_created                                               1259613950   \n",
       "user_type                                                           1   \n",
       "venue_address                                   717 Washington Avenue   \n",
       "venue_country                                                      US   \n",
       "venue_latitude                                                25.7775   \n",
       "venue_longitude                                              -80.1334   \n",
       "venue_name                                INK Nightclub - South Beach   \n",
       "venue_state                                                        FL   \n",
       "fraud                                                               1   \n",
       "\n",
       "                                                                    1  \\\n",
       "acct_type                                                     premium   \n",
       "approx_payout_date                                         1296720000   \n",
       "body_length                                                      3499   \n",
       "channels                                                            0   \n",
       "country                                                            US   \n",
       "currency                                                          USD   \n",
       "delivery_method                                                     1   \n",
       "description         <p>Join us for a quick, one-night, community-b...   \n",
       "email_domain                                                  ruf.org   \n",
       "event_created                                              1293832670   \n",
       "event_end                                                  1296288000   \n",
       "event_published                                           1.29383e+09   \n",
       "event_start                                                1296255600   \n",
       "fb_published                                                        0   \n",
       "gts                                                            868.02   \n",
       "has_analytics                                                       0   \n",
       "has_header                                                          0   \n",
       "has_logo                                                            1   \n",
       "listed                                                              n   \n",
       "name                                      Winthrop RUF Winter Getaway   \n",
       "name_length                                                        27   \n",
       "num_order                                                          23   \n",
       "num_payouts                                                         1   \n",
       "object_id                                                      786878   \n",
       "org_desc            <p>Since 1987, RUF has ministered to students ...   \n",
       "org_facebook                                                        0   \n",
       "org_name                                   RUF at Winthrop University   \n",
       "org_twitter                                                        12   \n",
       "payee_name                                                        RUF   \n",
       "payout_type                                                     CHECK   \n",
       "previous_payouts    [{'name': 'RUF', 'created': '2010-10-01 01:10:...   \n",
       "sale_duration                                                      28   \n",
       "sale_duration2                                                     28   \n",
       "show_map                                                            0   \n",
       "ticket_types        [{'event_id': 786878, 'cost': 35.0, 'availabil...   \n",
       "user_age                                                          149   \n",
       "user_created                                               1280942776   \n",
       "user_type                                                           3   \n",
       "venue_address                                                           \n",
       "venue_country                                                      US   \n",
       "venue_latitude                                                32.7766   \n",
       "venue_longitude                                              -79.9309   \n",
       "venue_name                                    The Charleston, SC area   \n",
       "venue_state                                                        SC   \n",
       "fraud                                                               0   \n",
       "\n",
       "                                                                    2  \\\n",
       "acct_type                                                     premium   \n",
       "approx_payout_date                                         1296172800   \n",
       "body_length                                                      2601   \n",
       "channels                                                            8   \n",
       "country                                                            US   \n",
       "currency                                                          USD   \n",
       "delivery_method                                                     1   \n",
       "description         <h3><span class=\"subcategory\"><strong>Teacher ...   \n",
       "email_domain                                           pvsd.k12.ca.us   \n",
       "event_created                                              1291090956   \n",
       "event_end                                                  1295740800   \n",
       "event_published                                           1.29109e+09   \n",
       "event_start                                                1295713800   \n",
       "fb_published                                                        0   \n",
       "gts                                                              3500   \n",
       "has_analytics                                                       0   \n",
       "has_header                                                        NaN   \n",
       "has_logo                                                            0   \n",
       "listed                                                              y   \n",
       "name                                     DRDP (2010) Teacher Training   \n",
       "name_length                                                        28   \n",
       "num_order                                                          19   \n",
       "num_payouts                                                         4   \n",
       "object_id                                                      787337   \n",
       "org_desc            <p><a href=\"http://www.desiredresults.com\">www...   \n",
       "org_facebook                                                        0   \n",
       "org_name            University Preparation School in collaboration...   \n",
       "org_twitter                                                         0   \n",
       "payee_name                              University Preparation School   \n",
       "payout_type                                                     CHECK   \n",
       "previous_payouts    [{'name': 'Danielle Severn', 'created': '2010-...   \n",
       "sale_duration                                                      54   \n",
       "sale_duration2                                                     54   \n",
       "show_map                                                            0   \n",
       "ticket_types        [{'event_id': 787337, 'cost': 93.51, 'availabi...   \n",
       "user_age                                                          214   \n",
       "user_created                                               1272559388   \n",
       "user_type                                                           3   \n",
       "venue_address                            10100 Pioneer Blvd Suite 100   \n",
       "venue_country                                                      US   \n",
       "venue_latitude                                                33.9442   \n",
       "venue_longitude                                               -118.08   \n",
       "venue_name                     Los Angeles County Office of Education   \n",
       "venue_state                                                        CA   \n",
       "fraud                                                               0   \n",
       "\n",
       "                                                                    3  \\\n",
       "acct_type                                                     premium   \n",
       "approx_payout_date                                         1388966400   \n",
       "body_length                                                     12347   \n",
       "channels                                                            6   \n",
       "country                                                            IE   \n",
       "currency                                                          EUR   \n",
       "delivery_method                                                     1   \n",
       "description         <p style=\"margin-bottom: 1.3em; padding-bottom...   \n",
       "email_domain                                     irishtabletennis.com   \n",
       "event_created                                              1360681570   \n",
       "event_end                                                  1388534400   \n",
       "event_published                                           1.36068e+09   \n",
       "event_start                                                1360702800   \n",
       "fb_published                                                        0   \n",
       "gts                                                           1167.35   \n",
       "has_analytics                                                       0   \n",
       "has_header                                                          0   \n",
       "has_logo                                                            1   \n",
       "listed                                                              y   \n",
       "name                                            ITTA Affiliation 2013   \n",
       "name_length                                                        21   \n",
       "num_order                                                          39   \n",
       "num_payouts                                                        16   \n",
       "object_id                                                      885645   \n",
       "org_desc                                                                \n",
       "org_facebook                                                        0   \n",
       "org_name                                                                \n",
       "org_twitter                                                         0   \n",
       "payee_name                                                              \n",
       "payout_type                                                       ACH   \n",
       "previous_payouts    [{'name': '', 'created': '2010-11-09 01:10:15'...   \n",
       "sale_duration                                                       0   \n",
       "sale_duration2                                                      0   \n",
       "show_map                                                            0   \n",
       "ticket_types        [{'event_id': 885645, 'cost': 25.0, 'availabil...   \n",
       "user_age                                                          889   \n",
       "user_created                                               1283870102   \n",
       "user_type                                                           3   \n",
       "venue_address                                                           \n",
       "venue_country                                                    None   \n",
       "venue_latitude                                                    NaN   \n",
       "venue_longitude                                                   NaN   \n",
       "venue_name                                                       None   \n",
       "venue_state                                                      None   \n",
       "fraud                                                               0   \n",
       "\n",
       "                                                                    4  \n",
       "acct_type                                                     premium  \n",
       "approx_payout_date                                         1297900800  \n",
       "body_length                                                      2417  \n",
       "channels                                                           11  \n",
       "country                                                            US  \n",
       "currency                                                          USD  \n",
       "delivery_method                                                     0  \n",
       "description         <p>Writers and filmmakers need to understand t...  \n",
       "email_domain                               artsandbusinesscouncil.org  \n",
       "event_created                                              1291994666  \n",
       "event_end                                                  1297468800  \n",
       "event_published                                           1.29199e+09  \n",
       "event_start                                                1297440000  \n",
       "fb_published                                                        1  \n",
       "gts                                                           2313.15  \n",
       "has_analytics                                                       0  \n",
       "has_header                                                          0  \n",
       "has_logo                                                            0  \n",
       "listed                                                              y  \n",
       "name                Self Defense for Writers and Filmmakers: For A...  \n",
       "name_length                                                        66  \n",
       "num_order                                                          30  \n",
       "num_payouts                                                         0  \n",
       "object_id                                                     1114349  \n",
       "org_desc            <p><font face=\"Arial\"><font size=\"2\"><strong>T...  \n",
       "org_facebook                                                        0  \n",
       "org_name                   Arts & Business Council of Greater Boston   \n",
       "org_twitter                                                         0  \n",
       "payee_name                Arts and Business Council or Greater Boston  \n",
       "payout_type                                                     CHECK  \n",
       "previous_payouts    [{'name': 'Arts and Business Council or Greate...  \n",
       "sale_duration                                                      63  \n",
       "sale_duration2                                                     63  \n",
       "show_map                                                            0  \n",
       "ticket_types        [{'event_id': 1114349, 'cost': 150.0, 'availab...  \n",
       "user_age                                                           35  \n",
       "user_created                                               1288984065  \n",
       "user_type                                                           3  \n",
       "venue_address                                  One Marina Park Drive   \n",
       "venue_country                                                      US  \n",
       "venue_latitude                                                42.3538  \n",
       "venue_longitude                                              -71.0443  \n",
       "venue_name                                          Fish & Richardson  \n",
       "venue_state                                                        MA  \n",
       "fraud                                                               0  "
      ]
     },
     "execution_count": 27,
     "metadata": {},
     "output_type": "execute_result"
    }
   ],
   "source": [
    "df.head().T"
   ]
  },
  {
   "cell_type": "markdown",
   "metadata": {},
   "source": [
    "Some of the data is text (and HTML), which will require feature engineering:\n",
    "\n",
    "* TF-IDF\n",
    "* Feature hashing\n",
    "* n-grams\n",
    "\n",
    "etc.\n",
    "\n",
    "You will also need to construct a target from `acct_type`.  Fraud events start with `fraud`.  How you define fraud depends on how you define the business problem."
   ]
  },
  {
   "cell_type": "code",
   "execution_count": null,
   "metadata": {},
   "outputs": [],
   "source": [
    "df.acct_type.value_counts(dropna=False)"
   ]
  },
  {
   "cell_type": "code",
   "execution_count": null,
   "metadata": {},
   "outputs": [],
   "source": [
    "df.info()"
   ]
  },
  {
   "cell_type": "markdown",
   "metadata": {},
   "source": [
    "Is missing data a problem?  What are your options for handling missing data?"
   ]
  },
  {
   "cell_type": "code",
   "execution_count": null,
   "metadata": {},
   "outputs": [],
   "source": [
    "df.describe().T"
   ]
  },
  {
   "cell_type": "code",
   "execution_count": 4,
   "metadata": {},
   "outputs": [],
   "source": [
    "import numpy as np\n",
    "df['fraud'] = np.where((df['acct_type'] == 'fraudster') | (df['acct_type'] == 'fraudster_event') | (df['acct_type'] == 'fraudster_att'), 1, 0)"
   ]
  },
  {
   "cell_type": "code",
   "execution_count": null,
   "metadata": {},
   "outputs": [],
   "source": [
    "df['org_fb_twitter'] = df['org_facebook'] + df['org_twitter']"
   ]
  },
  {
   "cell_type": "code",
   "execution_count": null,
   "metadata": {},
   "outputs": [],
   "source": [
    "df.boxplot('org_fb_twitter', 'fraud')"
   ]
  },
  {
   "cell_type": "code",
   "execution_count": null,
   "metadata": {},
   "outputs": [],
   "source": [
    "boxes = ['delivery_method', 'has_logo', 'name_length', 'org_facebook', 'org_twitter', 'user_age']"
   ]
  },
  {
   "cell_type": "code",
   "execution_count": null,
   "metadata": {},
   "outputs": [],
   "source": [
    "for box in boxes:\n",
    "    df.boxplot(box, 'fraud')"
   ]
  },
  {
   "cell_type": "code",
   "execution_count": null,
   "metadata": {},
   "outputs": [],
   "source": [
    "df.groupby(['payout_type','fraud'])['fraud'].count().unstack(0).plot.bar()"
   ]
  },
  {
   "cell_type": "code",
   "execution_count": 26,
   "metadata": {},
   "outputs": [
    {
     "data": {
      "text/plain": [
       "Index(['body_length', 'channels', 'delivery_method', 'event_created',\n",
       "       'event_published', 'fb_published', 'has_analytics', 'has_header',\n",
       "       'has_logo', 'name_length', 'num_order', 'object_id', 'org_facebook',\n",
       "       'org_twitter', 'show_map', 'user_age', 'user_created', 'user_type',\n",
       "       'venue_latitude', 'venue_longitude'],\n",
       "      dtype='object')"
      ]
     },
     "execution_count": 26,
     "metadata": {},
     "output_type": "execute_result"
    }
   ],
   "source": [
    "df_for_models._get_numeric_data().columns"
   ]
  },
  {
   "cell_type": "code",
   "execution_count": 15,
   "metadata": {},
   "outputs": [],
   "source": [
    "from sklearn.ensemble import RandomForestClassifier\n",
    "from sklearn.model_selection import train_test_split\n",
    "\n",
    "drop_list = ['acct_type', 'approx_payout_date', 'event_end', 'event_start', 'gts', 'num_payouts', 'payout_type', 'sale_duration', 'sale_duration2', 'ticket_types']\n",
    "df_for_models = df.drop(drop_list, axis=1)\n",
    "df_for_models.fillna(0, inplace=True)"
   ]
  },
  {
   "cell_type": "code",
   "execution_count": 16,
   "metadata": {},
   "outputs": [],
   "source": [
    "y = df_for_models.pop('fraud').values\n",
    "X = df_for_models._get_numeric_data().values\n",
    "X_train, X_test, y_train, y_test = train_test_split(X, y, stratify=y, test_size=0.33, random_state=42)"
   ]
  },
  {
   "cell_type": "code",
   "execution_count": 17,
   "metadata": {},
   "outputs": [
    {
     "data": {
      "text/plain": [
       "array([[0.99, 0.01],\n",
       "       [0.5 , 0.5 ],\n",
       "       [0.99, 0.01],\n",
       "       ...,\n",
       "       [0.98, 0.02],\n",
       "       [0.99, 0.01],\n",
       "       [1.  , 0.  ]])"
      ]
     },
     "execution_count": 17,
     "metadata": {},
     "output_type": "execute_result"
    }
   ],
   "source": [
    "rf = RandomForestClassifier()\n",
    "rf.fit(X_train, y_train)\n",
    "rf.predict_proba(X_test)"
   ]
  },
  {
   "cell_type": "code",
   "execution_count": 18,
   "metadata": {},
   "outputs": [],
   "source": [
    "import pickle\n",
    "# with open(\"data/model.pkl\", 'w') as f:\n",
    "pickle.dump(rf, open('data/model.pkl', 'wb'))"
   ]
  },
  {
   "cell_type": "code",
   "execution_count": 19,
   "metadata": {},
   "outputs": [
    {
     "data": {
      "text/plain": [
       "0.7926988265971316"
      ]
     },
     "execution_count": 19,
     "metadata": {},
     "output_type": "execute_result"
    }
   ],
   "source": [
    "from sklearn.metrics import f1_score\n",
    "f1_score(y_test, rf.predict(X_test))"
   ]
  },
  {
   "cell_type": "code",
   "execution_count": null,
   "metadata": {},
   "outputs": [],
   "source": [
    "df.info()"
   ]
  },
  {
   "cell_type": "code",
   "execution_count": 11,
   "metadata": {},
   "outputs": [
    {
     "data": {
      "text/plain": [
       "array([  701,  9880, 10352, 12846,  5267, 12349,  1041, 11687, 10088,\n",
       "        8670])"
      ]
     },
     "execution_count": 11,
     "metadata": {},
     "output_type": "execute_result"
    }
   ],
   "source": [
    "rand_list = np.random.randint(0, len(df), 10)\n",
    "rand_list"
   ]
  },
  {
   "cell_type": "code",
   "execution_count": 23,
   "metadata": {},
   "outputs": [],
   "source": [
    "test_examples_df = df_for_models.loc[rand_list]"
   ]
  },
  {
   "cell_type": "code",
   "execution_count": 24,
   "metadata": {},
   "outputs": [],
   "source": [
    "test_examples_df.to_csv('data/test_script_examples.csv')"
   ]
  },
  {
   "cell_type": "code",
   "execution_count": null,
   "metadata": {},
   "outputs": [],
   "source": [
    "df_mw = df[525:551]"
   ]
  },
  {
   "cell_type": "code",
   "execution_count": null,
   "metadata": {},
   "outputs": [],
   "source": [
    "pd.set_option('display.max_columns', None)\n",
    "df_mw.head()"
   ]
  },
  {
   "cell_type": "code",
   "execution_count": null,
   "metadata": {},
   "outputs": [],
   "source": [
    "df_mw['email_domain'].value_counts()"
   ]
  },
  {
   "cell_type": "code",
   "execution_count": null,
   "metadata": {},
   "outputs": [],
   "source": []
  },
  {
   "cell_type": "code",
   "execution_count": null,
   "metadata": {},
   "outputs": [],
   "source": [
    "df_mw['email_._loc'] = df_mw['email_domain'].str.find('.')"
   ]
  },
  {
   "cell_type": "code",
   "execution_count": null,
   "metadata": {},
   "outputs": [],
   "source": [
    "df_mw['email_domain'].str[-3:].value_counts()"
   ]
  },
  {
   "cell_type": "code",
   "execution_count": null,
   "metadata": {},
   "outputs": [],
   "source": [
    "from bs4 import BeautifulSoup\n",
    "soup = BeautifulSoup(df_mw['description'][525], 'html.parser')"
   ]
  },
  {
   "cell_type": "code",
   "execution_count": null,
   "metadata": {},
   "outputs": [],
   "source": [
    "p_list = soup.find_all('p')"
   ]
  },
  {
   "cell_type": "code",
   "execution_count": null,
   "metadata": {},
   "outputs": [],
   "source": [
    "for p in p_list:\n",
    "    print(p.get_text())"
   ]
  },
  {
   "cell_type": "code",
   "execution_count": null,
   "metadata": {},
   "outputs": [],
   "source": [
    "df_mw['fraud'].count()"
   ]
  },
  {
   "cell_type": "code",
   "execution_count": null,
   "metadata": {},
   "outputs": [],
   "source": [
    "df_mw[df_mw['fraud'] == 1]"
   ]
  },
  {
   "cell_type": "code",
   "execution_count": null,
   "metadata": {},
   "outputs": [],
   "source": [
    "df['fraud'].sum()"
   ]
  },
  {
   "cell_type": "code",
   "execution_count": null,
   "metadata": {},
   "outputs": [],
   "source": [
    "df[df['fraud'] == 1]['ticket_types'][0]"
   ]
  },
  {
   "cell_type": "code",
   "execution_count": null,
   "metadata": {},
   "outputs": [],
   "source": [
    "df_mw['ticket_types'][527]"
   ]
  },
  {
   "cell_type": "code",
   "execution_count": null,
   "metadata": {},
   "outputs": [],
   "source": [
    "(df_mw ['event_created'] - df_mw['user_created']) / df_mw['user_age']"
   ]
  },
  {
   "cell_type": "code",
   "execution_count": null,
   "metadata": {},
   "outputs": [],
   "source": [
    "df_mw['user_age']"
   ]
  },
  {
   "cell_type": "code",
   "execution_count": null,
   "metadata": {},
   "outputs": [],
   "source": [
    "(df_mw['event_end'] - df_mw['event_start'])/60000"
   ]
  },
  {
   "cell_type": "code",
   "execution_count": null,
   "metadata": {},
   "outputs": [],
   "source": [
    "df_mw['event_published'] - df_mw['event_created']"
   ]
  },
  {
   "cell_type": "code",
   "execution_count": null,
   "metadata": {},
   "outputs": [],
   "source": [
    "df_mw.head()"
   ]
  },
  {
   "cell_type": "code",
   "execution_count": null,
   "metadata": {},
   "outputs": [],
   "source": [
    "df['user_age'][df['fraud'] == 1].value_counts()"
   ]
  },
  {
   "cell_type": "code",
   "execution_count": null,
   "metadata": {},
   "outputs": [],
   "source": [
    "df['email_domain'].str[-3:][df['fraud'] == 1].value_counts()"
   ]
  },
  {
   "cell_type": "code",
   "execution_count": null,
   "metadata": {},
   "outputs": [],
   "source": [
    "pd.set_option('display.max_rows', None)\n",
    "df['email_domain'].str[-3:].value_counts()"
   ]
  },
  {
   "cell_type": "code",
   "execution_count": null,
   "metadata": {},
   "outputs": [],
   "source": [
    "df['country'].value_counts()"
   ]
  },
  {
   "cell_type": "code",
   "execution_count": null,
   "metadata": {},
   "outputs": [],
   "source": [
    "df['description'][2]"
   ]
  },
  {
   "cell_type": "code",
   "execution_count": null,
   "metadata": {},
   "outputs": [],
   "source": []
  }
 ],
 "metadata": {
  "kernelspec": {
   "display_name": "Python 3",
   "language": "python",
   "name": "python3"
  },
  "language_info": {
   "codemirror_mode": {
    "name": "ipython",
    "version": 3
   },
   "file_extension": ".py",
   "mimetype": "text/x-python",
   "name": "python",
   "nbconvert_exporter": "python",
   "pygments_lexer": "ipython3",
   "version": "3.7.7"
  }
 },
 "nbformat": 4,
 "nbformat_minor": 4
}
